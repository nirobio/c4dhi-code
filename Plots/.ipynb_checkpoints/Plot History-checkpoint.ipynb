{
 "cells": [
  {
   "cell_type": "code",
   "execution_count": null,
   "metadata": {},
   "outputs": [],
   "source": [
    "import os\n",
    "import matplotlib.pyplot as plt\n",
    "import pandas as pd"
   ]
  },
  {
   "cell_type": "code",
   "execution_count": null,
   "metadata": {},
   "outputs": [],
   "source": [
    "from platform import python_version\n",
    "\n",
    "print(python_version())"
   ]
  },
  {
   "cell_type": "code",
   "execution_count": null,
   "metadata": {},
   "outputs": [],
   "source": [
    "log_csvs = sorted(os.listdir('../logs/'))\n",
    "print(log_csvs)"
   ]
  },
  {
   "cell_type": "code",
   "execution_count": null,
   "metadata": {},
   "outputs": [],
   "source": [
    "labels = ['Conv 1D', 'Conv 2D', 'LSTM']\n",
    "colors = ['r', 'm', 'c']"
   ]
  },
  {
   "cell_type": "code",
   "execution_count": null,
   "metadata": {},
   "outputs": [],
   "source": [
    "pd.__version__"
   ]
  },
  {
   "cell_type": "code",
   "execution_count": null,
   "metadata": {
    "scrolled": false
   },
   "outputs": [],
   "source": [
    "fig, ax = plt.subplots(1, 3, sharey=True, figsize=(16,5))\n",
    "for i, (fn, label, c) in enumerate(zip(log_csvs, labels, colors)):\n",
    "    csv_path = os.path.join('..', 'logs', fn)\n",
    "    print(csv_path)\n",
    "    #df = pd.read_csv(csv_path, engine='python') \n",
    "                     #delimiter=r'\\s+')\n",
    "    \n",
    "    path = \"/home/niro/Documents/git-repo/c4dhi-code/logs\"\n",
    "\n",
    "    \n",
    "    df = pd.read_csv(csv_path, engine='python')\n",
    "\n",
    "    \n",
    "    ax[i].set_title(label, size=16)\n",
    "    ax[i].plot(df.accuracy, color=c, label='train')\n",
    "    ax[i].plot(df.val_accuracy, ls='--', color=c, label='test')\n",
    "    ax[i].legend(loc='upper left')\n",
    "    ax[i].tick_params(axis='both', which='major', labelsize=12)\n",
    "    ax[i].set_ylim([0,1.0])\n",
    "\n",
    "fig.text(0.5, 0.02, 'Epochs', ha='center', size=14)\n",
    "fig.text(0.08, 0.5, 'Accuracy', va='center', rotation='vertical', size=14)\n",
    "plt.show()"
   ]
  },
  {
   "cell_type": "code",
   "execution_count": null,
   "metadata": {},
   "outputs": [],
   "source": [
    "pd.DataFrame(history.history).plot(figsize=(8,5))\n",
    "plt.show()"
   ]
  },
  {
   "cell_type": "code",
   "execution_count": null,
   "metadata": {},
   "outputs": [],
   "source": [
    "pwd"
   ]
  },
  {
   "cell_type": "code",
   "execution_count": null,
   "metadata": {},
   "outputs": [],
   "source": []
  }
 ],
 "metadata": {
  "kernelspec": {
   "display_name": "audio",
   "language": "python",
   "name": "audio"
  },
  "language_info": {
   "codemirror_mode": {
    "name": "ipython",
    "version": 3
   },
   "file_extension": ".py",
   "mimetype": "text/x-python",
   "name": "python",
   "nbconvert_exporter": "python",
   "pygments_lexer": "ipython3",
   "version": "3.7.10"
  }
 },
 "nbformat": 4,
 "nbformat_minor": 2
}
